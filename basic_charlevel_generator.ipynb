{
 "cells": [
  {
   "cell_type": "code",
   "execution_count": 1,
   "metadata": {},
   "outputs": [
    {
     "data": {
      "text/plain": [
       "<function tensorflow.python.keras.losses.sparse_categorical_crossentropy(y_true, y_pred, from_logits=False, axis=-1)>"
      ]
     },
     "execution_count": 1,
     "metadata": {},
     "output_type": "execute_result"
    }
   ],
   "source": [
    "import pandas as pd\n",
    "import numpy as np\n",
    "import os\n",
    "import tensorflow as tf\n",
    "import nltk\n",
    "import re\n",
    "from datetime import date\n",
    "\n",
    "from tensorflow.keras.layers import Input,Lambda, Dense,LeakyReLU ,Dropout,LSTM, GlobalMaxPool1D, Bidirectional, Embedding,Flatten, Concatenate,Conv2DTranspose , BatchNormalization\n",
    "from tensorflow.keras.models import Model\n",
    "from tensorflow.keras.optimizers import Adam, SGD\n",
    "from tensorflow.keras.losses import sparse_categorical_crossentropy\n",
    "\n",
    "sparse_categorical_crossentropy"
   ]
  },
  {
   "cell_type": "code",
   "execution_count": 7,
   "metadata": {},
   "outputs": [],
   "source": [
    "badlist = pd.read_csv('data/badlist', header=None)[0].tolist()"
   ]
  },
  {
   "cell_type": "code",
   "execution_count": 8,
   "metadata": {},
   "outputs": [],
   "source": [
    "def clean_line(line):\n",
    "    \n",
    "    for badchar in badlist:\n",
    "        if badchar in line:\n",
    "            line = re.sub(badchar,'',line)\n",
    "    \n",
    "    return line"
   ]
  },
  {
   "cell_type": "code",
   "execution_count": 9,
   "metadata": {},
   "outputs": [],
   "source": [
    "# read the raw text files and clean the lines\n",
    "\n",
    "START_STRING = 'BEGIN EPISODE'\n",
    "\n",
    "all_episodes_by_sentence = []\n",
    "\n",
    "for element in os.listdir('house/'):\n",
    "    if 'clean' in element:\n",
    "        with open('house/'+element) as in_raw:\n",
    "            # start token\n",
    "            all_episodes_by_sentence.append(START_STRING)\n",
    "            for (i, line) in enumerate(in_raw):\n",
    "                all_episodes_by_sentence.append(clean_line(line) )\n",
    "        \n",
    "            # end token\n",
    "            all_episodes_by_sentence.append('END EPISODE\\n\\n')\n",
    "            all_episodes_by_sentence.append('------------------------------------------\\n')\n",
    "    "
   ]
  },
  {
   "cell_type": "code",
   "execution_count": 10,
   "metadata": {},
   "outputs": [
    {
     "data": {
      "text/plain": [
       "'BEGIN EPISODE'"
      ]
     },
     "execution_count": 10,
     "metadata": {},
     "output_type": "execute_result"
    }
   ],
   "source": [
    "all_episodes_by_sentence[0]"
   ]
  },
  {
   "cell_type": "code",
   "execution_count": 11,
   "metadata": {},
   "outputs": [],
   "source": [
    "# combine text to create a single string for sliceshifting\n",
    "text = ' '.join(all_episodes_by_sentence)"
   ]
  },
  {
   "cell_type": "code",
   "execution_count": 12,
   "metadata": {},
   "outputs": [
    {
     "name": "stdout",
     "output_type": "stream",
     "text": [
      "95 unique characters\n"
     ]
    }
   ],
   "source": [
    "# The unique characters in the file\n",
    "vocab = sorted(set(text))\n",
    "print ('{} unique characters'.format(len(vocab)))"
   ]
  },
  {
   "cell_type": "code",
   "execution_count": 13,
   "metadata": {},
   "outputs": [],
   "source": [
    "# Creating a mapping from unique characters to indices\n",
    "char2idx = {u:i for i, u in enumerate(vocab)}\n",
    "idx2char = np.array(vocab)\n",
    "\n",
    "text_as_int = np.array([char2idx[c] for c in text])"
   ]
  },
  {
   "cell_type": "code",
   "execution_count": 14,
   "metadata": {},
   "outputs": [
    {
     "data": {
      "text/plain": [
       "array([33, 36, 38, ..., 13, 13,  1])"
      ]
     },
     "execution_count": 14,
     "metadata": {},
     "output_type": "execute_result"
    }
   ],
   "source": [
    "text_as_int"
   ]
  },
  {
   "cell_type": "code",
   "execution_count": 15,
   "metadata": {},
   "outputs": [],
   "source": [
    "# The maximum length sentence we want for a single input in characters\n",
    "seq_length = 200\n",
    "examples_per_epoch = len(text)//(seq_length+1)"
   ]
  },
  {
   "cell_type": "code",
   "execution_count": 16,
   "metadata": {},
   "outputs": [
    {
     "data": {
      "text/plain": [
       "array([33, 36, 38, ..., 13, 13,  1])"
      ]
     },
     "execution_count": 16,
     "metadata": {},
     "output_type": "execute_result"
    }
   ],
   "source": [
    "text_as_int"
   ]
  },
  {
   "cell_type": "code",
   "execution_count": 21,
   "metadata": {},
   "outputs": [],
   "source": [
    "# Create training examples / targets\n",
    "char_dataset = tf.data.Dataset.from_tensor_slices(text_as_int)"
   ]
  },
  {
   "cell_type": "code",
   "execution_count": 22,
   "metadata": {},
   "outputs": [
    {
     "name": "stdout",
     "output_type": "stream",
     "text": [
      "'BEGIN EPISODE [Open on a House’s face. His eyes are closed. The picture is not quite in color, but it’s not black and white either. Radiohead’s “No Surprises” plays.]\\n [House opens his eyes. He’s lying'\n",
      "' on a twin bed on the left side of a cell-like room at Mayfield. He’s wearing a gray t-shirt. There is a stainless steel basin on the tiled floor near his head. On the opposite wall there is a single w'\n",
      "'indow. Next to it a metal sink is bolted into the wall. Another stainless basin is on the floor below the sink.]\\n [Cut to House opening his eyes. The color has returned to normal. Everything is quiet. '\n",
      "'He isn’t restrained any longer. He touches his thigh briefly then sits up. He limps to the window, holding his leg for support.]\\n [Cut to a suitcase dropping on the bed. House packs his clothes and zip'\n",
      "'s the valise.]\\n [Cut to House walking down the hall with his cane in his right hand and his suitcase in his left. He switches the case to his right so he can swipe a knit cap off a patient in a wheelch'\n"
     ]
    }
   ],
   "source": [
    "# extract sequences from character dataset\n",
    "sequences = char_dataset.batch(seq_length+1, drop_remainder=True)\n",
    "\n",
    "for item in sequences.take(5):\n",
    "    print(repr(''.join(idx2char[item.numpy()])))"
   ]
  },
  {
   "cell_type": "code",
   "execution_count": 23,
   "metadata": {},
   "outputs": [],
   "source": [
    "\n",
    "def split_shift_input(segment):\n",
    "    \"\"\"\n",
    "    Creates the teaching data by shifting the training data on off to create labeled data\n",
    "    \"\"\"\n",
    "    input_segment = segment[:-1]\n",
    "    target_segment = segment[1:]\n",
    "    return input_segment, target_segment\n",
    "\n",
    "dataset = sequences.map(split_shift_input)"
   ]
  },
  {
   "cell_type": "code",
   "execution_count": 24,
   "metadata": {},
   "outputs": [
    {
     "name": "stdout",
     "output_type": "stream",
     "text": [
      "Input data:  'BEGIN EPISODE [Open on a House’s face. His eyes are closed. The picture is not quite in color, but it’s not black and white either. Radiohead’s “No Surprises” plays.]\\n [House opens his eyes. He’s lyin'\n",
      "Target data: 'EGIN EPISODE [Open on a House’s face. His eyes are closed. The picture is not quite in color, but it’s not black and white either. Radiohead’s “No Surprises” plays.]\\n [House opens his eyes. He’s lying'\n"
     ]
    }
   ],
   "source": [
    "for input_example, target_example in  dataset.take(1):\n",
    "    print ('Input data: ', repr(''.join(idx2char[input_example.numpy()])))\n",
    "    print ('Target data:', repr(''.join(idx2char[target_example.numpy()])))"
   ]
  },
  {
   "cell_type": "code",
   "execution_count": 25,
   "metadata": {},
   "outputs": [],
   "source": [
    "# set up dataset as prebatched\n",
    "BATCH_SIZE = 35\n",
    "\n",
    "# Length of the vocabulary\n",
    "vocab_size = len(vocab)\n",
    "\n",
    "# embedding dimension\n",
    "embedding_dim = 256\n",
    "\n",
    "# RNN units\n",
    "rnn_units = 1124\n",
    "\n",
    "dataset = dataset.batch(BATCH_SIZE, drop_remainder=True)"
   ]
  },
  {
   "cell_type": "code",
   "execution_count": 26,
   "metadata": {},
   "outputs": [
    {
     "data": {
      "text/plain": [
       "<BatchDataset shapes: ((35, 200), (35, 200)), types: (tf.int64, tf.int64)>"
      ]
     },
     "execution_count": 26,
     "metadata": {},
     "output_type": "execute_result"
    }
   ],
   "source": [
    "dataset"
   ]
  },
  {
   "cell_type": "code",
   "execution_count": 27,
   "metadata": {},
   "outputs": [],
   "source": [
    "def build_model(vocab_size, embedding_dim, rnn_units, batch_size):\n",
    "    \n",
    "    i = Input(shape=(None,), batch_size=batch_size )\n",
    "    x = Embedding(vocab_size, embedding_dim)(i)\n",
    "    x = LSTM(rnn_units, \n",
    "             return_sequences=True,\n",
    "             stateful=True,\n",
    "             recurrent_initializer='glorot_uniform')(x)\n",
    "    x = Dense(vocab_size)(x)\n",
    "    x = Dense(vocab_size)(x)\n",
    "\n",
    "    model = Model(i,x)\n",
    "    \n",
    "    return model\n",
    "    "
   ]
  },
  {
   "cell_type": "code",
   "execution_count": 28,
   "metadata": {},
   "outputs": [],
   "source": [
    "model = build_model(\n",
    "  vocab_size = len(vocab),\n",
    "  embedding_dim=embedding_dim,\n",
    "  rnn_units=rnn_units,\n",
    "  batch_size=BATCH_SIZE)"
   ]
  },
  {
   "cell_type": "code",
   "execution_count": 29,
   "metadata": {},
   "outputs": [
    {
     "name": "stdout",
     "output_type": "stream",
     "text": [
      "Model: \"model\"\n",
      "_________________________________________________________________\n",
      "Layer (type)                 Output Shape              Param #   \n",
      "=================================================================\n",
      "input_1 (InputLayer)         [(35, None)]              0         \n",
      "_________________________________________________________________\n",
      "embedding (Embedding)        (35, None, 256)           24320     \n",
      "_________________________________________________________________\n",
      "lstm (LSTM)                  (35, None, 1124)          6208976   \n",
      "_________________________________________________________________\n",
      "dense (Dense)                (35, None, 95)            106875    \n",
      "_________________________________________________________________\n",
      "dense_1 (Dense)              (35, None, 95)            9120      \n",
      "=================================================================\n",
      "Total params: 6,349,291\n",
      "Trainable params: 6,349,291\n",
      "Non-trainable params: 0\n",
      "_________________________________________________________________\n"
     ]
    }
   ],
   "source": [
    "# simple model\n",
    "model.summary()"
   ]
  },
  {
   "cell_type": "code",
   "execution_count": 30,
   "metadata": {},
   "outputs": [],
   "source": [
    "def loss(labels, logits):\n",
    "    \"\"\"\n",
    "    Define loss function \n",
    "    \"\"\"\n",
    "    return sparse_categorical_crossentropy(labels, logits, from_logits=True)\n"
   ]
  },
  {
   "cell_type": "code",
   "execution_count": 32,
   "metadata": {},
   "outputs": [],
   "source": [
    "model.compile(optimizer='adam', loss =loss)# loss='sparse_categorical_crossentropy' )"
   ]
  },
  {
   "cell_type": "code",
   "execution_count": 33,
   "metadata": {},
   "outputs": [],
   "source": [
    "# Directory where the checkpoints will be saved\n",
    "today = date.today()\n",
    "\n",
    "checkpoint_dir = './base_training_checkpoints_{today}'.format(today=today)\n",
    "\n",
    "\n",
    "checkpoint_prefix = os.path.join(checkpoint_dir, \"ckpt_{epoch}\")\n",
    "\n",
    "# define callbacks\n",
    "checkpoint_callback=tf.keras.callbacks.ModelCheckpoint(\n",
    "    filepath=checkpoint_prefix,\n",
    "    save_weights_only=True)"
   ]
  },
  {
   "cell_type": "code",
   "execution_count": 34,
   "metadata": {},
   "outputs": [],
   "source": [
    "EPOCHS=10"
   ]
  },
  {
   "cell_type": "code",
   "execution_count": 35,
   "metadata": {
    "scrolled": true
   },
   "outputs": [
    {
     "name": "stdout",
     "output_type": "stream",
     "text": [
      "Epoch 1/10\n",
      "930/930 [==============================] - 123s 132ms/step - loss: 1.9773\n",
      "Epoch 2/10\n",
      "930/930 [==============================] - 121s 131ms/step - loss: 1.3633\n",
      "Epoch 3/10\n",
      "930/930 [==============================] - 122s 131ms/step - loss: 1.2323\n",
      "Epoch 4/10\n",
      "930/930 [==============================] - 120s 129ms/step - loss: 1.1650\n",
      "Epoch 5/10\n",
      "930/930 [==============================] - 120s 129ms/step - loss: 1.1178\n",
      "Epoch 6/10\n",
      "930/930 [==============================] - 120s 130ms/step - loss: 1.0765\n",
      "Epoch 7/10\n",
      "930/930 [==============================] - 120s 129ms/step - loss: 1.0414\n",
      "Epoch 8/10\n",
      "930/930 [==============================] - 120s 129ms/step - loss: 1.0102\n",
      "Epoch 9/10\n",
      "930/930 [==============================] - 120s 129ms/step - loss: 0.9834\n",
      "Epoch 10/10\n",
      "930/930 [==============================] - 119s 128ms/step - loss: 0.9618\n"
     ]
    }
   ],
   "source": [
    "history = model.fit(dataset, epochs=EPOCHS, callbacks=[checkpoint_callback])"
   ]
  },
  {
   "cell_type": "code",
   "execution_count": 36,
   "metadata": {},
   "outputs": [
    {
     "name": "stdout",
     "output_type": "stream",
     "text": [
      "Model: \"model_1\"\n",
      "_________________________________________________________________\n",
      "Layer (type)                 Output Shape              Param #   \n",
      "=================================================================\n",
      "input_2 (InputLayer)         [(1, None)]               0         \n",
      "_________________________________________________________________\n",
      "embedding_1 (Embedding)      (1, None, 256)            24320     \n",
      "_________________________________________________________________\n",
      "lstm_1 (LSTM)                (1, None, 1124)           6208976   \n",
      "_________________________________________________________________\n",
      "dense_2 (Dense)              (1, None, 95)             106875    \n",
      "_________________________________________________________________\n",
      "dense_3 (Dense)              (1, None, 95)             9120      \n",
      "=================================================================\n",
      "Total params: 6,349,291\n",
      "Trainable params: 6,349,291\n",
      "Non-trainable params: 0\n",
      "_________________________________________________________________\n"
     ]
    }
   ],
   "source": [
    "# for prediction, batch size has to be changed\n",
    "# So reload the model and set shape to [1, None]\n",
    "\n",
    "# preloaded one checkpoint directory\n",
    "checkpoint_dir_preloaded = 'base_training_checkpoints_2020-02-28/'\n",
    "\n",
    "\n",
    "tf.train.latest_checkpoint(checkpoint_dir_preloaded)\n",
    "\n",
    "model = build_model(vocab_size, embedding_dim, rnn_units, batch_size=1)\n",
    "\n",
    "model.load_weights(tf.train.latest_checkpoint(checkpoint_dir))\n",
    "\n",
    "model.build(tf.TensorShape([1, None]))\n",
    "\n",
    "model.summary()"
   ]
  },
  {
   "cell_type": "code",
   "execution_count": 37,
   "metadata": {},
   "outputs": [],
   "source": [
    "def text_gen(model, start_string=START_STRING, freedom=1.0, num_generate=1000):\n",
    "    \"\"\"\n",
    "    generate text with the trained model\n",
    "    \n",
    "    start_string (STR):  Basis for the model to start prediction on. \n",
    "    freedom (FLOAT): Multiplier for predictions. The lower it is the lower the impact of predictive variance\n",
    "    num_generate (INT): Desired text length\n",
    "    \"\"\"\n",
    "    \n",
    "    text_generated = []\n",
    "    \n",
    "    # Number of characters to generate\n",
    "    num_generate = 10000\n",
    "\n",
    "    # vectorization of starting string\n",
    "    input_eval = [char2idx[s] for s in start_string]\n",
    "    input_eval = tf.expand_dims(input_eval, 0)\n",
    "\n",
    "    model.reset_states()\n",
    "    \n",
    "    \n",
    "    for i in range(num_generate):\n",
    "        predictions = model(input_eval)\n",
    "        \n",
    "        \n",
    "        # remove the batch dimension\n",
    "        predictions = tf.squeeze(predictions, 0)\n",
    "\n",
    "        \n",
    "        # using a categorical distribution to predict the character returned by the model\n",
    "        predictions = predictions / freedom\n",
    "        predicted_id = tf.random.categorical(predictions, num_samples=1)[-1,0].numpy()\n",
    "\n",
    "        # We pass the predicted character as the next input to the model\n",
    "        # along with the previous hidden state\n",
    "        input_eval = tf.expand_dims([predicted_id], 0)\n",
    "\n",
    "        text_generated.append(idx2char[predicted_id])\n",
    "\n",
    "    return (start_string + ''.join(text_generated))"
   ]
  },
  {
   "cell_type": "code",
   "execution_count": 39,
   "metadata": {
    "scrolled": false
   },
   "outputs": [
    {
     "name": "stdout",
     "output_type": "stream",
     "text": [
      "BEGIN EPISODE [Amber at farmer] Erng?\n",
      " AMYESHERE: [under her arm] 'S normall the living.\n",
      " HOUSE: I don’t see. I want that; I’ll get her over his glove. Another woden is, it’s bad shirt. [House is a treatment, taking his cane for House, holding his chin approaches.]\n",
      " TREMER KERKY CONNIE: Diane that's signing everywhere. Never that play warm-red cell aneur.\n",
      " HOUSE: We'll take a look at her own called varief that a few seconds, test him for the start Tuchel. Where are some irravious discipline bags where? (House hands Kutner swab the lid? Get her mother? [He gave House a frame child tonie. We need to read a thing.\n",
      " FOREMAN: [awkward Dibala] Still wouldn’t get a tand for the linier girlfries for it. It was unforeade. [Taub leaves, House finally gets an exapor to offer somewhat.] Are you okay?\n",
      " EMERS (WILEEN: Yes, those are their goldens.\n",
      " TRITTER: Well then stimmy beans 40 people out the problem.\n",
      " WILSON: There has to be over. I got it.\n",
      " WILSON: House will put them off for Christmas san. I’m putting on the Y: Well, then, why do you chose his brother you'd do like that?\"\n",
      " TAUB: [pauses] And zine, get up? (to Jeff] Love ours you've had any it.\n",
      " HOUSE: whered you sleep.\n",
      " HENRY QUEN: (to Cameron sitting under Diabe) Patient can be energivated.\n",
      " HOUSE: Not giving a candidate for the damn attention, blisders.\n",
      " KUTNER: [Depressed.] Okay. (He slaps his a methotre'ck up. He continues the sunny night, huh, does it.]\n",
      " [Cut to House’s office. House takes into the CT and the real care of her waiting room, where House walks up for House's shoulder and starts stretching a growth and shows it into his back. Foreman walks in.]\n",
      " House: Hey, we’re gonna tell the patient room. The house she shaves him away and House gets off fence supplying a racket. Cuddy walks up.]\n",
      " DEREK TREWALE WELEMEN just go tell the truth when she's an idiot around her CT do that?\n",
      " FOREMAN: [long pause] I'm scared. It's going to leave...\n",
      " WILSON: [softly.] Oh my Obviously. It's just some blood tests.\n",
      " VOZIE: [to Thirteen and Cameron lying as she answers it.] House.\n",
      " [The baby walks up to House.]\n",
      " CUT TO:\n",
      " [Hospital Warily. Maybe. Operating room. A woman is walking away \"House\" at 104s. Close rooms, then tries to seize, signs in front of Foley and then his head daam.\n",
      " KUTNER: Guilly.\n",
      " [He hye is the wire-frozen tork]\n",
      " HENRY DOBER:  over use watching you.\n",
      " [Cut to a anival. Everything of an infection that could kill him]\n",
      " [If I believe most Ian. My ause than the anaphylaxis, doesn't explain these files. Test for blood flow. Esteban and starts saying \"the pills?\n",
      " CAMERON: [muttering] House, like you? [He gets up to leave). Over-x-ray, but it's not usually signified. Sobin cancer of the food is as soon as we get the onsethouse, and growing with the table to treat for Peneric, knocking?\n",
      " Chase: Guy sleeping with it.\n",
      " Foreman gets into the locker once and approaches the said months ago, their tests weren’t even sick. And he can’t be impnolant and Harvey’s gift.\n",
      " [He hangs up. Worm crashes out malario, flowers. This kid is conscious, hands to House] You're both in the next staff we were signing nike an own guy” who stopped the sension as an once to this? They say that I've always screwed up the baby. (to the MAInthr Mr. Trenton lines, leaving me nance his heart infiltrates him for the toeld.\n",
      " House: Yeah, I knew I'd be able to write’s again.\n",
      " Foley: When did you give her steps geifily for him. Taub looks through the aree and finds the TV. Get an MRI scan in a bathroom. He fiddles in line. House swabs the front of the baby, where Chase follows her]\n",
      " Christ. Go do er. Well, think with her [And voice on the other hand, sits next to House.]\n",
      " Jarent: (talking loud) think gas downstairs, lobe for Vicodin. Waud shows no secreting kids start should work for her attaches off the skin.\n",
      " [The team leaves)\n",
      " [Cut back to Cuddy, frospening all the day. House sits on the couch. He raises his left and starts drapping his finger, understanding]\n",
      " .\n",
      " [Cut to House and talking on the sink to Foreman.]\n",
      " ESEECURTENTER: Lift, so how good word about whether they get spready and baby, all the pills tong, have all of a bicee bare great story. Do you believe that something?\n",
      " NREVEHS there a good pitzin.\n",
      " DEREK: [still confused] Sorry, I'll be able to sick as long as you tell you. You took ’im up, right? Either she's making out pizzing, not arial?\n",
      " FOREMAN: He's still just so trying to exist. Sl Stark I will come for the likely if he's been sick, and he might make it for help;\n",
      " House: Yes? [House takes a case from a wheelchair.] It's the meds who wouldn’t have repenienced of that even for our relative to...\n",
      " Otherwhere, haven’t sold-searches, or she's being tested in with one now-y. [He gasps out to reveal House poked her when he hangs his cane and leaves)\n",
      " [Cut to Lee's room. House is and Cuddy enter through her tonight. Wilson and Foreman considers a visual abuse of waterfries?\n",
      " House: But I knew I was upset I'd be a baby.\n",
      " [Cut to Cuddy’s office. House enters elevation and starts leaving. Cuddy enters. House is pacing.]\n",
      " GREG HOUSE: [over phone] I’ll call the flabs. Not a baby.\n",
      " CAMERON: Lets’s see, perfect.\n",
      " WILEY: What if it was an allergic reaction?\n",
      " HOUSE: Well, this is House. We need to. [turns to Cuddy back] My husband, you're stuck when your life who goes inside an effect on everyone around House's kid in various dnters? At least this guy’s also beginning out that now. This is for my life, or watching him and one idiots and found the blood supply. We'll see her one truck.\n",
      " JEDDERECK WILSON: [nods.] Good plenty Danger.\n",
      " HIRNE CUEDY: He's gonna come down the infection.\n",
      " THEREBEN KUTNER: She's full sorry. (Chase is spirile, and around, then follows.)\n",
      " JESRIE LRESEN: That’s great, neither should have been halluctured. Huped ifferent. Why not go with her up?\n",
      " HOUSE: [sarcastic] But we'll split about the new sungrase. Test his jug babies in the 10s that he told her he must have already probably wouldn't.\n",
      " HOUSE: Maxelive dance biopsy.\n",
      " HOUSE: My leg would save her. (Laughter turns and looks at her) I need it. I can’t be in a five. Unless the first time may be the kind of annoyances. Charlie, he wasn't his hands away’s sensors, no toxins revealed my liver's bombarbaid, 402 did an air equisien will.\n",
      " HOUSE: [smiling] You told me not to. It's hard at you and then, with duck with other people site \tSt before. What's going on?\n",
      " WILSON: We have to think. Of course I’ll start Cuddy with emergency room. Which, this is important. You're pryssurged? Completely sure we’re going to keep telling him this?\n",
      " HOUSE: Which is so sorry. I can’t breathe.\n",
      " KUTNER: He's wasting wis breakup swelling out a new kidney failure. Before Zozing and involfries, their contrast and insane, but \n",
      " CHASE: use.\n",
      " [House get on the sound of disbelief. House smiles slightly and starts to pull up and leaves the lab results, Della starts to clear him in the song in a blood voice]\n",
      " NUREEDE: [to Harvey] Take whatever to see with this. [getting up from the pen.\n",
      " COLE: No.\n",
      " FOREMAN: Consider it up to form the kid.\n",
      " BENWYER’s wheeled up.]\n",
      " SSTAEBERTER: Where were you feeling?\n",
      " WILSON: You’ve been looking for you.\n",
      " HAy firing your sit back.\n",
      " NURE: No one like it, but you're worried about her. She can't leave the shelves. Maybe that's what wors. He’s willing it for him. The yelling stuck are closely town air bubbles.\n",
      " CAMERON: [signing which still stares at their fairy. Meanwhile, how impless you put him in the test. How did she speed his heart is because 4 tumours of blood grand?\n",
      " FOREMAN: He's not answering. Yeah, so you won’t be dead telling me what work.\n",
      " KUNNER: We’re not passional.\n",
      " \"THIRTEEN\": Baby Sick. Our patient's giving him an epia. He understanded anything. So could have stateed avoiding lawsuits.\n",
      " CHASE: Once we could keep it against it. Four down\n",
      " CHASE: Follow him.\n",
      " ERIC WILE: Rest restart.ICAMYON speaks to Parents, so we could?\n",
      " Cameron: We're gonna take too. Parking lot is you slept for radiesphy respirator disorders the first six hours.\n",
      " House: I told her we are killed at Cuddy. Patient comes out again and John wants to wipe if we mild the lick of reaquing a seizure, she's a frontal lobby. It’ll work for her.\n",
      " GREG HOUSE: Yeah, sorry, \"your abloted would be handledded to be moving the babe off the wall. [Cameron walks in]\n",
      " HOUSE: (annoyed) That we started. Start her out from the same money to see Cuddy.\n",
      " [Cut to House's bedroom. She is wearing whe week is empty, she takes out the new car and puts it away from House.]\n",
      " JEMERY TENZI put them in the hall.\n",
      " HOUSE: Yes. Figured this illegar maneuver. Older tried your own life can be a child. Great working and confused?\n",
      " DR. PILES ROGEOD: Kight, 40 years old. Maybe it's all over a fire minute, and they can be right! I didn't know I can step that.\n",
      " DEREK: A-D deliver huh.\n",
      " [The team is grinning full out into the wall of mibrrow.]\n",
      " LIENE: You might do that, that was empty. As long as you get as you’ve thought about me.\n",
      " CUDDY: What do you think you say to her? [House’s beeper goes off.] That's okay. Saying you don't have the nose sees Vony...\n",
      " HROUGE: [sighs] Well things about her heart's fine. [He hangs her a bottle of deck.] Push up.\n",
      " AMY: What’d he say?\n",
      " FOREMAN: I don't know. If you can start talking to army about it before you feel all right?\n",
      " HOUSE: No. [Foreman smiles and enters the office.] it hurts. Where’s your last cure. You've got for a diaper training.\n",
      " [Foreman and Brock at her neck. Let’s get it, and he opens the door in front of her bed]\n",
      " KENNY: They said she liked CHRIS.\n",
      " WILSON: Well, a little baby scans with another short so has discoired your plan.\n",
      " FOREMEN: [marks off.] CYou g d what the eld-holy is game. No matter how hard you know, right?\n",
      " HOUSE: [repeating gives him an operating. It is nick. Well, you moved in to mention all the wedding. We've known it after was quievly probably indicated. A few general consent?\n",
      " KUTNER: [yelling as Dirrh’s give him in the white table) Ooh... [he leaves.]\n",
      " CUT TO:\n",
      " [Aerial view of PPTH. Night. The entire love is waiting for him. H\n"
     ]
    }
   ],
   "source": [
    "print(text_gen(model, start_string=u\"BEGIN EPISODE\", freedom=1, num_generate=10000))"
   ]
  },
  {
   "cell_type": "raw",
   "metadata": {},
   "source": [
    "BEGIN EPISODE [The scene opens on a dining the MRI scans and a blonde cough. Thirteen is standing behind her.]\n",
    " CUT TO:\n",
    " [Diagnostics Office. Day. The team is standing by the table in the courtroom. He sits back at the bedroom doorway]\n",
    " Vicodin administerately seriously. As soon as she holds on him, until he comes out of the Room and starts drilling it to him]\n",
    " Cuddy: You want him to take the webst now that I found the adjoining to someone's every \n",
    " Cuddy: You rather you're gonna have to give you a prescription about you, and I said you weren't right, if you transfer your case back from me, I'd be dead in a hospital. You can still get you scared, you're considering this out. People set up all the way back to the fact that it was inactive esperital in a canial dating again.\n",
    " House: Anything else?\n",
    " Foreman: Yeah, that would be idiots the way you two said it was never been in here and the recording studio that people in his shirt and white evolutionary symptoms. The clot could be a manifest rash \n",
    " Bill: We have to use it with him, we're sure it was his brain. [to Thirteen) You guys won't fire Chase.\n",
    " Cuddy: So what do we do? Tell you to take your pages for that disease?\n",
    " Melanie: Excuse me, [laughs] I know. I didn't know that you were worried about you.\n",
    " [House starts to walk away.]\n",
    " (Cut to Cameron and Chase in the conference room]\n",
    " Thirteen: You were wrong. The one that caused his car important aneurysm in the waiting room and House use it and down and sees House like him died]\n",
    " Foley: (getting the sharp panicking) Irene walking towards the classroom.]\n",
    " [Cut to a street coffired and releases the sample in the lobby.\n",
    " Cameron: The body doesn't work, they weren't all sure that work for. That doesn't mean she didn't comple here who was here. But I hear you were still alive. [All the walls look confused] You can't make sense go from those two people. You miss me right now if you're wrong with me, I say what I should try to teach you if you weren't going to do, I wanted to watch you changed your motorcycle, Dr. Foreman could’ve confronted it.\n",
    " Foreman: Yeah, but we didn't come back to your room for the bathroom because you think she was never the only mean something else which you caused. That wasn't that alone. [House takes it]\n",
    " Cuddy: The guy who was pretty much would be bacterial infection and a trache.\n",
    " [Cut to House and the team littering what is there as House and grin wheels Cuddy on the couch with his cane on a table in front of him. He slowly turns toward the refrigerator]\n",
    " [Cut to House walking into Bertingly athe in discretionances. Cuddy smiles and looks down, and throws up glass flashlight at Kenny’s face, then pauses and looks at the parents, he finishes writing the bottle of water on himself and collapses onto the floor, presents to people toward the office where Cuddy stands outside the door in front of the MRI, MRI made me someone paperwork and everyone stands beside him, everyone follows.]\n",
    " [Cut to Ducklings in the conference room. Cuddy is sitting at his desk in a chair while it looks around at the back of the bed)\n",
    " Michelle: If you're gonna have to go home soon enough.\n",
    " [Cut to House and Ducklings trying to stay him back and getting ready to dig down.]\n",
    " [Cut to the hallway. The team starts to walk away]\n",
    " Cuddy: What the hell is something to you?\n",
    " Cuddy: You don't have a chance.\n",
    " House: You don't want me to take the case you can\n",
    " [He tries to pull the eegisting up around to find a radiology video.\n",
    " Chase: We can do that on it. And get a blood tests were normal.\n",
    " Young Donny: Chase and Mark are you actually warn mother's clean."
   ]
  },
  {
   "cell_type": "code",
   "execution_count": null,
   "metadata": {
    "scrolled": false
   },
   "outputs": [],
   "source": []
  },
  {
   "cell_type": "code",
   "execution_count": null,
   "metadata": {},
   "outputs": [],
   "source": []
  }
 ],
 "metadata": {
  "kernelspec": {
   "display_name": "Python 3",
   "language": "python",
   "name": "python3"
  },
  "language_info": {
   "codemirror_mode": {
    "name": "ipython",
    "version": 3
   },
   "file_extension": ".py",
   "mimetype": "text/x-python",
   "name": "python",
   "nbconvert_exporter": "python",
   "pygments_lexer": "ipython3",
   "version": "3.7.5"
  }
 },
 "nbformat": 4,
 "nbformat_minor": 2
}
