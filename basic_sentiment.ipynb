{
 "cells": [
  {
   "cell_type": "code",
   "execution_count": 42,
   "metadata": {
    "scrolled": true
   },
   "outputs": [],
   "source": [
    "import numpy as np\n",
    "import tensorflow as tf\n",
    "import os\n",
    "from tensorflow.keras.layers import Input, Dense ,Dropout,LSTM, Embedding, Bidirectional\n",
    "from tensorflow.keras.models import Model\n",
    "from tensorflow.keras.losses import BinaryCrossentropy\n",
    "\n",
    "import seaborn as sns"
   ]
  },
  {
   "cell_type": "code",
   "execution_count": 2,
   "metadata": {},
   "outputs": [
    {
     "data": {
      "text/plain": [
       "'2.1.0'"
      ]
     },
     "execution_count": 2,
     "metadata": {},
     "output_type": "execute_result"
    }
   ],
   "source": [
    "tf.__version__"
   ]
  },
  {
   "cell_type": "code",
   "execution_count": 3,
   "metadata": {},
   "outputs": [
    {
     "data": {
      "text/plain": [
       "['abstract_reasoning',\n",
       " 'aeslc',\n",
       " 'aflw2k3d',\n",
       " 'amazon_us_reviews',\n",
       " 'arc',\n",
       " 'bair_robot_pushing_small',\n",
       " 'beans',\n",
       " 'big_patent',\n",
       " 'bigearthnet',\n",
       " 'billsum',\n",
       " 'binarized_mnist',\n",
       " 'binary_alpha_digits',\n",
       " 'c4',\n",
       " 'caltech101',\n",
       " 'caltech_birds2010',\n",
       " 'caltech_birds2011',\n",
       " 'cars196',\n",
       " 'cassava',\n",
       " 'cats_vs_dogs',\n",
       " 'celeb_a',\n",
       " 'celeb_a_hq',\n",
       " 'cfq',\n",
       " 'chexpert',\n",
       " 'cifar10',\n",
       " 'cifar100',\n",
       " 'cifar10_1',\n",
       " 'cifar10_corrupted',\n",
       " 'citrus_leaves',\n",
       " 'cityscapes',\n",
       " 'civil_comments',\n",
       " 'clevr',\n",
       " 'cmaterdb',\n",
       " 'cnn_dailymail',\n",
       " 'coco',\n",
       " 'coil100',\n",
       " 'colorectal_histology',\n",
       " 'colorectal_histology_large',\n",
       " 'cos_e',\n",
       " 'curated_breast_imaging_ddsm',\n",
       " 'cycle_gan',\n",
       " 'deep_weeds',\n",
       " 'definite_pronoun_resolution',\n",
       " 'diabetic_retinopathy_detection',\n",
       " 'div2k',\n",
       " 'dmlab',\n",
       " 'downsampled_imagenet',\n",
       " 'dsprites',\n",
       " 'dtd',\n",
       " 'duke_ultrasound',\n",
       " 'dummy_dataset_shared_generator',\n",
       " 'dummy_mnist',\n",
       " 'emnist',\n",
       " 'eraser_multi_rc',\n",
       " 'esnli',\n",
       " 'eurosat',\n",
       " 'fashion_mnist',\n",
       " 'flic',\n",
       " 'flores',\n",
       " 'food101',\n",
       " 'gap',\n",
       " 'gigaword',\n",
       " 'glue',\n",
       " 'groove',\n",
       " 'higgs',\n",
       " 'horses_or_humans',\n",
       " 'i_naturalist2017',\n",
       " 'image_label_folder',\n",
       " 'imagenet2012',\n",
       " 'imagenet2012_corrupted',\n",
       " 'imagenet_resized',\n",
       " 'imagenette',\n",
       " 'imagewang',\n",
       " 'imdb_reviews',\n",
       " 'iris',\n",
       " 'kitti',\n",
       " 'kmnist',\n",
       " 'lfw',\n",
       " 'librispeech',\n",
       " 'librispeech_lm',\n",
       " 'libritts',\n",
       " 'lm1b',\n",
       " 'lost_and_found',\n",
       " 'lsun',\n",
       " 'malaria',\n",
       " 'math_dataset',\n",
       " 'mnist',\n",
       " 'mnist_corrupted',\n",
       " 'movie_rationales',\n",
       " 'moving_mnist',\n",
       " 'multi_news',\n",
       " 'multi_nli',\n",
       " 'multi_nli_mismatch',\n",
       " 'natural_questions',\n",
       " 'newsroom',\n",
       " 'nsynth',\n",
       " 'omniglot',\n",
       " 'open_images_v4',\n",
       " 'opinosis',\n",
       " 'oxford_flowers102',\n",
       " 'oxford_iiit_pet',\n",
       " 'para_crawl',\n",
       " 'patch_camelyon',\n",
       " 'pet_finder',\n",
       " 'places365_small',\n",
       " 'plant_leaves',\n",
       " 'plant_village',\n",
       " 'plantae_k',\n",
       " 'qa4mre',\n",
       " 'quickdraw_bitmap',\n",
       " 'reddit_tifu',\n",
       " 'resisc45',\n",
       " 'rock_paper_scissors',\n",
       " 'rock_you',\n",
       " 'scan',\n",
       " 'scene_parse150',\n",
       " 'scicite',\n",
       " 'scientific_papers',\n",
       " 'shapes3d',\n",
       " 'smallnorb',\n",
       " 'snli',\n",
       " 'so2sat',\n",
       " 'speech_commands',\n",
       " 'squad',\n",
       " 'stanford_dogs',\n",
       " 'stanford_online_products',\n",
       " 'starcraft_video',\n",
       " 'sun397',\n",
       " 'super_glue',\n",
       " 'svhn_cropped',\n",
       " 'ted_hrlr_translate',\n",
       " 'ted_multi_translate',\n",
       " 'tf_flowers',\n",
       " 'the300w_lp',\n",
       " 'tiny_shakespeare',\n",
       " 'titanic',\n",
       " 'trivia_qa',\n",
       " 'uc_merced',\n",
       " 'ucf101',\n",
       " 'vgg_face2',\n",
       " 'visual_domain_decathlon',\n",
       " 'voc',\n",
       " 'wider_face',\n",
       " 'wikihow',\n",
       " 'wikipedia',\n",
       " 'wmt14_translate',\n",
       " 'wmt15_translate',\n",
       " 'wmt16_translate',\n",
       " 'wmt17_translate',\n",
       " 'wmt18_translate',\n",
       " 'wmt19_translate',\n",
       " 'wmt_t2t_translate',\n",
       " 'wmt_translate',\n",
       " 'xnli',\n",
       " 'xsum',\n",
       " 'yelp_polarity_reviews']"
      ]
     },
     "execution_count": 3,
     "metadata": {},
     "output_type": "execute_result"
    }
   ],
   "source": [
    "import tensorflow_datasets as tfds\n",
    "\n",
    "# See all registered datasets\n",
    "tfds.list_builders()\n",
    "\n",
    "\n"
   ]
  },
  {
   "cell_type": "code",
   "execution_count": 25,
   "metadata": {},
   "outputs": [],
   "source": [
    "BUFFER_SIZE = 10000\n",
    "BATCH_SIZE = 40\n",
    "EMBED_DIM = 70\n",
    "RNN_UNITS = 70\n"
   ]
  },
  {
   "cell_type": "code",
   "execution_count": 16,
   "metadata": {
    "scrolled": true
   },
   "outputs": [],
   "source": [
    "dataset, info = tfds.load('imdb_reviews/subwords8k', with_info=True, as_supervised=True)\n",
    "\n",
    "train_dataset, test_dataset = dataset['train'], dataset['test']\n",
    "\n",
    "# Transform to dataset , shuffle and batch \n",
    "train_dataset = train_dataset.shuffle(BUFFER_SIZE)\n",
    "train_dataset = train_dataset.padded_batch(BATCH_SIZE, padded_shapes = ([None],[]))\n",
    "# test data as well\n",
    "test_dataset = test_dataset.padded_batch(BATCH_SIZE, padded_shapes = ([None],[]))\n"
   ]
  },
  {
   "cell_type": "code",
   "execution_count": 17,
   "metadata": {},
   "outputs": [],
   "source": [
    "# allows encoding and decoding of text to integers\n",
    "encoder = info.features['text'].encoder"
   ]
  },
  {
   "cell_type": "code",
   "execution_count": 18,
   "metadata": {},
   "outputs": [],
   "source": [
    "VOCAB_SIZE = info.features['text'].vocab_size"
   ]
  },
  {
   "cell_type": "code",
   "execution_count": 19,
   "metadata": {},
   "outputs": [],
   "source": [
    "# creating callback\n",
    "\n",
    "# Directory where the checkpoints will be saved\n",
    "checkpoint_dir = './training_checkpoints'\n",
    "\n",
    "# Name of the checkpoint files\n",
    "checkpoint_prefix = os.path.join(checkpoint_dir, \"ckpt_latest\")\n",
    "\n",
    "checkpoint_callback=tf.keras.callbacks.ModelCheckpoint(\n",
    "    filepath=checkpoint_prefix,\n",
    "    save_weights_only=True)\n"
   ]
  },
  {
   "cell_type": "code",
   "execution_count": 20,
   "metadata": {},
   "outputs": [],
   "source": [
    "def build_model(vocab_size, embedding_dim, rnn_units, batch_size):\n",
    "    \"\"\"\n",
    "    Basic model build\n",
    "    \"\"\"\n",
    "    i = Input(shape=(None,), batch_size=batch_size )\n",
    "    x = Embedding(vocab_size, embedding_dim)(i)\n",
    "    x = Bidirectional(LSTM(rnn_units))(x)\n",
    "#    x = Dense(rnn_units*2, activation='relu')(x)\n",
    "#    x = Dropout(0.5)(x)\n",
    "    x = Dense(rnn_units, activation='relu')(x)\n",
    "    x = Dense(1)(x)\n",
    "\n",
    "    model = Model(i,x)\n",
    "    \n",
    "    return model"
   ]
  },
  {
   "cell_type": "code",
   "execution_count": 21,
   "metadata": {},
   "outputs": [],
   "source": [
    "model = build_model(VOCAB_SIZE,EMBED_DIM,RNN_UNITS,BATCH_SIZE)"
   ]
  },
  {
   "cell_type": "code",
   "execution_count": 22,
   "metadata": {},
   "outputs": [
    {
     "name": "stdout",
     "output_type": "stream",
     "text": [
      "Model: \"model_2\"\n",
      "_________________________________________________________________\n",
      "Layer (type)                 Output Shape              Param #   \n",
      "=================================================================\n",
      "input_3 (InputLayer)         [(40, None)]              0         \n",
      "_________________________________________________________________\n",
      "embedding_2 (Embedding)      (40, None, 100)           818500    \n",
      "_________________________________________________________________\n",
      "bidirectional_2 (Bidirection (40, 180)                 137520    \n",
      "_________________________________________________________________\n",
      "dense_4 (Dense)              (40, 90)                  16290     \n",
      "_________________________________________________________________\n",
      "dense_5 (Dense)              (40, 1)                   91        \n",
      "=================================================================\n",
      "Total params: 972,401\n",
      "Trainable params: 972,401\n",
      "Non-trainable params: 0\n",
      "_________________________________________________________________\n"
     ]
    }
   ],
   "source": [
    "model.summary()"
   ]
  },
  {
   "cell_type": "code",
   "execution_count": 23,
   "metadata": {},
   "outputs": [],
   "source": [
    "model.compile(loss=BinaryCrossentropy(from_logits=True),\n",
    "              optimizer=tf.keras.optimizers.Adam(1e-4),\n",
    "              metrics=['accuracy'])\n"
   ]
  },
  {
   "cell_type": "code",
   "execution_count": 13,
   "metadata": {
    "scrolled": false
   },
   "outputs": [
    {
     "name": "stdout",
     "output_type": "stream",
     "text": [
      "Epoch 1/9\n",
      "625/625 [==============================] - 58s 92ms/step - loss: 0.5783 - accuracy: 0.6252 - val_loss: 0.4450 - val_accuracy: 0.7450\n",
      "Epoch 2/9\n",
      "625/625 [==============================] - 55s 88ms/step - loss: 0.3037 - accuracy: 0.8742 - val_loss: 0.3963 - val_accuracy: 0.8000\n",
      "Epoch 3/9\n",
      "625/625 [==============================] - 55s 87ms/step - loss: 0.2305 - accuracy: 0.9118 - val_loss: 0.3806 - val_accuracy: 0.8200\n",
      "Epoch 4/9\n",
      "625/625 [==============================] - 55s 89ms/step - loss: 0.1993 - accuracy: 0.9270 - val_loss: 0.4291 - val_accuracy: 0.8375\n",
      "Epoch 5/9\n",
      "625/625 [==============================] - 55s 88ms/step - loss: 0.1717 - accuracy: 0.9376 - val_loss: 0.4434 - val_accuracy: 0.8475\n",
      "Epoch 6/9\n",
      "625/625 [==============================] - 55s 88ms/step - loss: 0.1551 - accuracy: 0.9447 - val_loss: 0.4865 - val_accuracy: 0.8325\n",
      "Epoch 7/9\n",
      "625/625 [==============================] - 55s 88ms/step - loss: 0.1328 - accuracy: 0.9546 - val_loss: 0.4736 - val_accuracy: 0.8500\n",
      "Epoch 8/9\n",
      "625/625 [==============================] - 54s 87ms/step - loss: 0.1247 - accuracy: 0.9568 - val_loss: 0.5095 - val_accuracy: 0.8500\n",
      "Epoch 9/9\n",
      "625/625 [==============================] - 55s 88ms/step - loss: 0.1161 - accuracy: 0.9608 - val_loss: 0.5030 - val_accuracy: 0.8525\n"
     ]
    }
   ],
   "source": [
    "history = model.fit(train_dataset, epochs=9,\n",
    "                    validation_data=test_dataset, \n",
    "                    validation_steps=10,\n",
    "                    callbacks=[checkpoint_callback]\n",
    "                   )"
   ]
  },
  {
   "cell_type": "code",
   "execution_count": 26,
   "metadata": {},
   "outputs": [],
   "source": [
    "# reload the model to return single predictions\n",
    "model_reloaded = build_model(VOCAB_SIZE,EMBED_DIM,RNN_UNITS,1)  # set batch size to 1\n",
    "\n",
    "# reload weights and rebuild\n",
    "model_reloaded.load_weights(tf.train.latest_checkpoint(checkpoint_dir))\n",
    "model_reloaded.build(tf.TensorShape([1, None]))"
   ]
  },
  {
   "cell_type": "code",
   "execution_count": 27,
   "metadata": {},
   "outputs": [
    {
     "name": "stdout",
     "output_type": "stream",
     "text": [
      "Model: \"model_4\"\n",
      "_________________________________________________________________\n",
      "Layer (type)                 Output Shape              Param #   \n",
      "=================================================================\n",
      "input_5 (InputLayer)         [(1, None)]               0         \n",
      "_________________________________________________________________\n",
      "embedding_4 (Embedding)      (1, None, 70)             572950    \n",
      "_________________________________________________________________\n",
      "bidirectional_4 (Bidirection (None, 140)               78960     \n",
      "_________________________________________________________________\n",
      "dense_8 (Dense)              (None, 70)                9870      \n",
      "_________________________________________________________________\n",
      "dense_9 (Dense)              (None, 1)                 71        \n",
      "=================================================================\n",
      "Total params: 661,851\n",
      "Trainable params: 661,851\n",
      "Non-trainable params: 0\n",
      "_________________________________________________________________\n"
     ]
    }
   ],
   "source": [
    "model_reloaded.summary()"
   ]
  },
  {
   "cell_type": "code",
   "execution_count": 28,
   "metadata": {},
   "outputs": [],
   "source": [
    "def sample_predict(sample_pred_text):\n",
    "    encoded_sample_pred_text = encoder.encode(sample_pred_text)\n",
    "\n",
    "    encoded_sample_pred_text = tf.cast(encoded_sample_pred_text, tf.float32)\n",
    "    predictions = model_reloaded.predict(tf.expand_dims(encoded_sample_pred_text, 0))\n",
    "\n",
    "    return (predictions)\n"
   ]
  },
  {
   "cell_type": "code",
   "execution_count": 29,
   "metadata": {},
   "outputs": [],
   "source": [
    "sample_pred_text = 'The movie was great, amazing movie with good graphics'\n",
    "sample_pred_text_bad = 'The movie was Horrible, Dont know what they were thinking'\n"
   ]
  },
  {
   "cell_type": "code",
   "execution_count": 30,
   "metadata": {},
   "outputs": [
    {
     "data": {
      "text/plain": [
       "array([[1.2003284]], dtype=float32)"
      ]
     },
     "execution_count": 30,
     "metadata": {},
     "output_type": "execute_result"
    }
   ],
   "source": [
    "sample_predict(sample_pred_text)\n"
   ]
  },
  {
   "cell_type": "code",
   "execution_count": 31,
   "metadata": {},
   "outputs": [
    {
     "data": {
      "text/plain": [
       "array([[-0.44350824]], dtype=float32)"
      ]
     },
     "execution_count": 31,
     "metadata": {},
     "output_type": "execute_result"
    }
   ],
   "source": [
    "sample_predict(sample_pred_text_bad)"
   ]
  },
  {
   "cell_type": "code",
   "execution_count": 38,
   "metadata": {},
   "outputs": [
    {
     "data": {
      "text/plain": [
       "[0.5783182617425918,\n",
       " 0.30373056285381317,\n",
       " 0.23045346764922142,\n",
       " 0.19929612344503403,\n",
       " 0.17173273286223412,\n",
       " 0.1551150177448988,\n",
       " 0.13281782451570034,\n",
       " 0.12472599907666444,\n",
       " 0.11610641037374735]"
      ]
     },
     "execution_count": 38,
     "metadata": {},
     "output_type": "execute_result"
    }
   ],
   "source": [
    "history.history['loss']"
   ]
  },
  {
   "cell_type": "code",
   "execution_count": 52,
   "metadata": {},
   "outputs": [],
   "source": [
    "data = pd.DataFrame(history.history)"
   ]
  },
  {
   "cell_type": "code",
   "execution_count": 54,
   "metadata": {},
   "outputs": [
    {
     "data": {
      "text/html": [
       "<div>\n",
       "<style scoped>\n",
       "    .dataframe tbody tr th:only-of-type {\n",
       "        vertical-align: middle;\n",
       "    }\n",
       "\n",
       "    .dataframe tbody tr th {\n",
       "        vertical-align: top;\n",
       "    }\n",
       "\n",
       "    .dataframe thead th {\n",
       "        text-align: right;\n",
       "    }\n",
       "</style>\n",
       "<table border=\"1\" class=\"dataframe\">\n",
       "  <thead>\n",
       "    <tr style=\"text-align: right;\">\n",
       "      <th></th>\n",
       "      <th>index</th>\n",
       "      <th>loss</th>\n",
       "      <th>accuracy</th>\n",
       "      <th>val_loss</th>\n",
       "      <th>val_accuracy</th>\n",
       "    </tr>\n",
       "  </thead>\n",
       "  <tbody>\n",
       "    <tr>\n",
       "      <th>0</th>\n",
       "      <td>0</td>\n",
       "      <td>0.578318</td>\n",
       "      <td>0.62516</td>\n",
       "      <td>0.444981</td>\n",
       "      <td>0.7450</td>\n",
       "    </tr>\n",
       "    <tr>\n",
       "      <th>1</th>\n",
       "      <td>1</td>\n",
       "      <td>0.303731</td>\n",
       "      <td>0.87420</td>\n",
       "      <td>0.396264</td>\n",
       "      <td>0.8000</td>\n",
       "    </tr>\n",
       "    <tr>\n",
       "      <th>2</th>\n",
       "      <td>2</td>\n",
       "      <td>0.230453</td>\n",
       "      <td>0.91184</td>\n",
       "      <td>0.380561</td>\n",
       "      <td>0.8200</td>\n",
       "    </tr>\n",
       "    <tr>\n",
       "      <th>3</th>\n",
       "      <td>3</td>\n",
       "      <td>0.199296</td>\n",
       "      <td>0.92696</td>\n",
       "      <td>0.429076</td>\n",
       "      <td>0.8375</td>\n",
       "    </tr>\n",
       "    <tr>\n",
       "      <th>4</th>\n",
       "      <td>4</td>\n",
       "      <td>0.171733</td>\n",
       "      <td>0.93760</td>\n",
       "      <td>0.443444</td>\n",
       "      <td>0.8475</td>\n",
       "    </tr>\n",
       "    <tr>\n",
       "      <th>5</th>\n",
       "      <td>5</td>\n",
       "      <td>0.155115</td>\n",
       "      <td>0.94468</td>\n",
       "      <td>0.486478</td>\n",
       "      <td>0.8325</td>\n",
       "    </tr>\n",
       "    <tr>\n",
       "      <th>6</th>\n",
       "      <td>6</td>\n",
       "      <td>0.132818</td>\n",
       "      <td>0.95460</td>\n",
       "      <td>0.473617</td>\n",
       "      <td>0.8500</td>\n",
       "    </tr>\n",
       "    <tr>\n",
       "      <th>7</th>\n",
       "      <td>7</td>\n",
       "      <td>0.124726</td>\n",
       "      <td>0.95676</td>\n",
       "      <td>0.509463</td>\n",
       "      <td>0.8500</td>\n",
       "    </tr>\n",
       "    <tr>\n",
       "      <th>8</th>\n",
       "      <td>8</td>\n",
       "      <td>0.116106</td>\n",
       "      <td>0.96080</td>\n",
       "      <td>0.503004</td>\n",
       "      <td>0.8525</td>\n",
       "    </tr>\n",
       "  </tbody>\n",
       "</table>\n",
       "</div>"
      ],
      "text/plain": [
       "   index      loss  accuracy  val_loss  val_accuracy\n",
       "0      0  0.578318   0.62516  0.444981        0.7450\n",
       "1      1  0.303731   0.87420  0.396264        0.8000\n",
       "2      2  0.230453   0.91184  0.380561        0.8200\n",
       "3      3  0.199296   0.92696  0.429076        0.8375\n",
       "4      4  0.171733   0.93760  0.443444        0.8475\n",
       "5      5  0.155115   0.94468  0.486478        0.8325\n",
       "6      6  0.132818   0.95460  0.473617        0.8500\n",
       "7      7  0.124726   0.95676  0.509463        0.8500\n",
       "8      8  0.116106   0.96080  0.503004        0.8525"
      ]
     },
     "execution_count": 54,
     "metadata": {},
     "output_type": "execute_result"
    }
   ],
   "source": [
    "data.reset_index()"
   ]
  },
  {
   "cell_type": "code",
   "execution_count": 80,
   "metadata": {},
   "outputs": [
    {
     "data": {
      "image/png": "[encoded data removed]",
      "text/plain": [
       "<Figure size 432x288 with 1 Axes>"
      ]
     },
     "metadata": {
      "needs_background": "light"
     },
     "output_type": "display_data"
    }
   ],
   "source": [
    "import matplotlib.pyplot as plt\n",
    "#fig = plt.figure(figsize=(20,10))\n",
    "f, ax = plt.subplots(1, 1)\n",
    "\n",
    "ax = sns.lineplot(ax=ax,y = 'val_accuracy' , x='index',data=data.reset_index() )\n",
    "ax = sns.lineplot(ax=ax ,y = 'accuracy' , x='index',data=data.reset_index() )\n",
    "\n",
    "ax.set(xlabel='Epoche', ylabel='Präzision')\n",
    "ax.set_title('Lernmetriken Präzision')\n",
    "\n",
    "legend = ax.legend(labels=[\"Trainingdaten\",\"Validierungsdaten\"])\n",
    "legend.legendHandles[1].set_color('orange')\n"
   ]
  },
  {
   "cell_type": "code",
   "execution_count": 82,
   "metadata": {},
   "outputs": [
    {
     "data": {
      "image/png": "[encoded data removed]",
      "text/plain": [
       "<Figure size 432x288 with 1 Axes>"
      ]
     },
     "metadata": {
      "needs_background": "light"
     },
     "output_type": "display_data"
    }
   ],
   "source": [
    "\n",
    "\n",
    "import matplotlib.pyplot as plt\n",
    "#fig = plt.figure(figsize=(20,10))\n",
    "f, ax = plt.subplots(1, 1)\n",
    "\n",
    "ax = sns.lineplot(y = 'loss' , x='index',data=data.reset_index() )\n",
    "ax = sns.lineplot(y = 'val_loss' , x='index',data=data.reset_index() )\n",
    "ax.set_title('Lernmetriken Loss')\n",
    "\n",
    "ax.set(xlabel='Epoche', ylabel='Loss')\n",
    "\n",
    "legend = ax.legend(labels=[\"Trainingdaten\",\"Validierungsdaten\"])\n",
    "legend.legendHandles[1].set_color('orange')\n"
   ]
  },
  {
   "cell_type": "code",
   "execution_count": null,
   "metadata": {},
   "outputs": [],
   "source": []
  }
 ],
 "metadata": {
  "kernelspec": {
   "display_name": "Python 3",
   "language": "python",
   "name": "python3"
  },
  "language_info": {
   "codemirror_mode": {
    "name": "ipython",
    "version": 3
   },
   "file_extension": ".py",
   "mimetype": "text/x-python",
   "name": "python",
   "nbconvert_exporter": "python",
   "pygments_lexer": "ipython3",
   "version": "3.7.6"
  }
 },
 "nbformat": 4,
 "nbformat_minor": 4
}
